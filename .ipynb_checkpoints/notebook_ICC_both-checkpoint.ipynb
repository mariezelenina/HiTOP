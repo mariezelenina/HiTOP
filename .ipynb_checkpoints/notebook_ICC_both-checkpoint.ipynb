{
 "cells": [
  {
   "cell_type": "code",
   "execution_count": 1,
   "id": "cfbf89b4",
   "metadata": {},
   "outputs": [],
   "source": [
    "import pandas as pd\n",
    "pd.set_option('max_colwidth', 100)\n",
    "import numpy as np\n",
    "import matplotlib.pyplot as plt\n",
    "from sklearn import svm, datasets\n",
    "from sklearn.model_selection import train_test_split\n",
    "from sklearn.preprocessing import label_binarize\n",
    "from sklearn.multiclass import OneVsRestClassifier\n",
    "from sklearn.metrics import confusion_matrix\n",
    "import itertools\n",
    "import scipy.stats as st\n",
    "import pandas as pd\n",
    "import numpy as np\n",
    "from scipy import stats\n",
    "from sklearn.feature_selection import mutual_info_classif\n",
    "import seaborn as sns\n",
    "from matplotlib import pyplot as plt\n",
    "%matplotlib inline\n",
    "pd.set_option('display.max_rows', 100)\n",
    "pd.set_option('display.max_columns', 500)\n",
    "import rpy2\n",
    "import pingouin as pg"
   ]
  },
  {
   "cell_type": "code",
   "execution_count": null,
   "id": "ac822480-927e-46f4-baf2-fbdad5833ca9",
   "metadata": {},
   "outputs": [],
   "source": [
    "# ICC - https://www.uvm.edu/~statdhtx/methods8/Supplements/icc/More%20on%20ICCs.pdf\n",
    "# ICC(2,1) - Each subject is measured by each rater, and raters are considered representative\n",
    "#            of a larger population of similar raters. \n",
    "#            Reliability calculated from a single measurement.\n",
    "\n",
    "# I found two python implementations:\n",
    "#     1 - pinguoin \n",
    "#     https://pingouin-stats.org/build/html/generated/pingouin.intraclass_corr.html\n",
    "#     2 - R thorugh rpy2\n",
    "#     https://www.r-bloggers.com/2021/06/intraclass-correlation-coefficient-in-r-quick-guide/\n",
    "#     also:\n",
    "#     https://stackoverflow.com/questions/40965579/intraclass-correlation-in-python-module\n",
    "\n",
    "# ICC(2,1) for : \n",
    "# total score of HITOP\n",
    "# total score of BAARS\n",
    "# each subscale of HITOP\n",
    "# each subscale of BAARS-IV\n",
    "# GAD-7\n",
    "# PHQ-8"
   ]
  },
  {
   "cell_type": "markdown",
   "id": "116c7c42-5e64-4723-a7f2-d1d043a8e941",
   "metadata": {},
   "source": [
    "# Functions"
   ]
  },
  {
   "cell_type": "code",
   "execution_count": 93,
   "id": "b16917b8-6a36-4a66-9192-b4aaf4f92b9a",
   "metadata": {},
   "outputs": [],
   "source": [
    "def do_icc(data, measure, show = True):\n",
    "    # just the measure of interest\n",
    "    data_measure = data[['Subject', measure, measure+'_recontact']]\n",
    "    data_measure = data_measure.rename(columns={measure: \"Original\", measure+'_recontact': \"Recontact\"})\n",
    "    data_measure_melted = pd.melt(data_measure, id_vars='Subject', value_vars=['Original','Recontact'], value_name='Score')\n",
    "    data_measure_melted = data_measure_melted.rename(columns={\"variable\": \"Session\"})\n",
    "    # adding Measure - don't really need to do it but eh\n",
    "    shape = data_measure_melted.shape\n",
    "    data_measure_melted['Measure'] = [measure] * shape[0]\n",
    "    #print(measure)\n",
    "    icc = pg.intraclass_corr(data=data_measure_melted, targets='Subject', raters='Session', ratings='Score').round(4)\n",
    "    icc.set_index(\"Type\")\n",
    "    #print(icc)\n",
    "    if show:\n",
    "        plt = sns.jointplot(data=data_measure, x='Original', y='Recontact')\n",
    "        plt.fig.suptitle(measure)\n",
    "        #plt = plt.set(title=measure)\n",
    "        #plt.subtitle(measure)\n",
    "        #plt.show()\n",
    "        #print(icc)\n",
    "    return (icc)\n",
    "\n",
    "def create_table (data, measures):\n",
    "    df_init = pd.DataFrame()\n",
    "    for measure in measures:\n",
    "        if 'bothered' not in measure:\n",
    "            # print(measure)\n",
    "            new_icc = do_icc(data, measure, show=False)\n",
    "            new_icc_row = new_icc.iloc[['1']].copy()\n",
    "            new_icc_row['Measure'] = measure\n",
    "            df_init = pd.concat([df_init, new_icc_row], axis = 0)\n",
    "    df_result = df_init\n",
    "    return (df_result)\n",
    "\n",
    "def run_icc_analysis(data, measures):\n",
    "    for measure in measures:\n",
    "        if 'bothered' not in measure:\n",
    "            do_icc(data, measure, show = False) # set show = \"True\" (default setting) if want to see the individual plots\\   \n",
    "    # organize results neatly\n",
    "    results_table = create_table(data, measures)\n",
    "    # put measure first; shift column 'Name' to first position \n",
    "    first_column = results_table.pop('Measure') \n",
    "    # insert column using insert(position,column_name,first_column) function \n",
    "    results_table.insert(0, 'Measure', first_column)\n",
    "    return (results_table)"
   ]
  },
  {
   "cell_type": "markdown",
   "id": "00b36de9-55b3-406e-b176-6c708f0a72c4",
   "metadata": {},
   "source": [
    "# Analysis ICC "
   ]
  },
  {
   "cell_type": "code",
   "execution_count": 94,
   "id": "e614fa5c-45f1-4ecc-a29e-e44e67e52a5a",
   "metadata": {},
   "outputs": [],
   "source": [
    "# this will be the same for any data (genpop/enriched/combined), so we can go ahead and run it\n",
    "measures_for_icc = ['hitop_sum', 'baars_sum', 'phq_sum', 'gad_sum', \\\n",
    "                   'baars_inattention_sum', 'baars_hyperactivity_sum', 'baars_impulsivity_sum', 'baars_sct_sum',\\\n",
    "                   'hitop_anhedonic_depression', 'hitop_anxious_worry', 'hitop_appetite_gain',\\\n",
    "                   'hitop_appetite_loss', 'hitop_cognitive_problems', 'hitop_hyposomnia', 'hitop_indecisiveness',\\\n",
    "                   'hitop_insomnia', 'hitop_panic', 'hitop_separation_insecurity', 'hitop_shame_guilt',\\\n",
    "                   'hitop_situational_phobia', 'hitop_social_anxiety', 'hitop_well_being']"
   ]
  },
  {
   "cell_type": "markdown",
   "id": "5729394c-80df-4629-8a0f-c77ee2822b9f",
   "metadata": {},
   "source": [
    "## Analysis original data (not invariant cores)"
   ]
  },
  {
   "cell_type": "markdown",
   "id": "2a95035b-0119-4c25-b789-eb34a597cd06",
   "metadata": {},
   "source": [
    "### Analysis NOT INV CORES - GenPop only"
   ]
  },
  {
   "cell_type": "code",
   "execution_count": 95,
   "id": "bc4a0cbe-64a0-4f25-bf88-aef5f439441d",
   "metadata": {},
   "outputs": [
    {
     "data": {
      "text/plain": [
       "'\\nDONT analyze data with grid checks removed on 1st visit only. ICC analysis compares responses on 1st visit to responses on \\nrecontact visit, obviously if we only remove failed checks on 1st visit, we will get gibberish results!\\n'"
      ]
     },
     "execution_count": 95,
     "metadata": {},
     "output_type": "execute_result"
    }
   ],
   "source": [
    "# load data\n",
    "data_path_genpop = '../../data/mydata_1general_forICC_removedGRIDchecks.csv'\n",
    "mydata_genpop = pd.read_csv(data_path_genpop)\n",
    "mydata_genpop = mydata_genpop.rename(columns={'Unnamed: 0': 'Subject'})\n",
    "\n",
    "# specify path where to save the results table\n",
    "path_to_save_genpop = '../../results/ICC_final/ICC_fullscales_genpop_removedGRIDchecks.csv'\n",
    "\n",
    "'''\n",
    "DONT analyze data with grid checks removed on 1st visit only. ICC analysis compares responses on 1st visit to responses on \n",
    "recontact visit, obviously if we only remove failed checks on 1st visit, we will get gibberish results!\n",
    "'''"
   ]
  },
  {
   "cell_type": "code",
   "execution_count": 96,
   "id": "34c5753a-5a14-40a5-9269-4f48b072ca4a",
   "metadata": {},
   "outputs": [],
   "source": [
    "# run icc\n",
    "icc_results = run_icc_analysis(mydata_genpop, measures_for_icc)"
   ]
  },
  {
   "cell_type": "code",
   "execution_count": 97,
   "id": "842c1ef7-3da3-43db-90f6-785019b234f9",
   "metadata": {},
   "outputs": [],
   "source": [
    "# save results \n",
    "icc_results.to_csv(path_to_save_genpop, index=False)"
   ]
  },
  {
   "cell_type": "code",
   "execution_count": 98,
   "id": "36a6783b-079e-4fd1-8113-d9ba944ef4c7",
   "metadata": {},
   "outputs": [
    {
     "data": {
      "text/plain": [
       "(np.float64(0.7695938388151335), array([0.736, 0.801]))"
      ]
     },
     "execution_count": 98,
     "metadata": {},
     "output_type": "execute_result"
    }
   ],
   "source": [
    "# calculate Cronbachs alpha\n",
    "pg.cronbach_alpha(data=mydata_genpop)"
   ]
  },
  {
   "cell_type": "markdown",
   "id": "e940da4d-6621-4276-b6b6-054dd9e889b3",
   "metadata": {},
   "source": [
    "### Analysis NOT INV CORES - Enriched only"
   ]
  },
  {
   "cell_type": "code",
   "execution_count": 86,
   "id": "29365ae0-43cf-4cc8-b6d8-c477a1e31182",
   "metadata": {},
   "outputs": [
    {
     "data": {
      "text/plain": [
       "(np.float64(0.8177508535982394), array([0.785, 0.848]))"
      ]
     },
     "execution_count": 86,
     "metadata": {},
     "output_type": "execute_result"
    }
   ],
   "source": [
    "# load data\n",
    "data_path_enriched = '../../data/mydata_1highrisk_forICC_removedGRIDchecks.csv'\n",
    "mydata_enriched = pd.read_csv(data_path_enriched)\n",
    "mydata_enriched = mydata_enriched.rename(columns={'Unnamed: 0': 'Subject'})\n",
    "\n",
    "# specify path where to save the results table\n",
    "path_to_save_enriched = '../../results/ICC_final/ICC_fullscales_enriched_removedGRIDchecks.csv'\n",
    "\n",
    "# run icc\n",
    "icc_results = run_icc_analysis(mydata_enriched, measures_for_icc)\n",
    "\n",
    "# save results \n",
    "icc_results.to_csv(path_to_save_enriched, index=False)\n",
    "\n",
    "# calculate Cronbachs alpha\n",
    "pg.cronbach_alpha(data=mydata_enriched)"
   ]
  },
  {
   "cell_type": "markdown",
   "id": "659e34ec-1d7a-4741-9026-a59b7680586f",
   "metadata": {},
   "source": [
    "### Analysis NOT INV CORES - GenPop and Enriched COMBINED"
   ]
  },
  {
   "cell_type": "code",
   "execution_count": 90,
   "id": "b2711c3e-7a34-47dc-9968-ddeae5db2e5d",
   "metadata": {},
   "outputs": [
    {
     "data": {
      "text/plain": [
       "(np.float64(0.7995446332093369), array([0.777, 0.821]))"
      ]
     },
     "execution_count": 90,
     "metadata": {},
     "output_type": "execute_result"
    }
   ],
   "source": [
    "# combine data\n",
    "mydata_combined = pd.concat([mydata_genpop, mydata_enriched])\n",
    "mydata_combined = mydata_combined.rename(columns={'Unnamed: 0': 'Subject'})\n",
    "\n",
    "# path to save\n",
    "path_to_save_combined = '../../results/ICC_final/ICC_fullscales_genpopANDenriched_removedGRIDchecks.csv'\n",
    "\n",
    "# do the usual:\n",
    "# run icc\n",
    "icc_results = run_icc_analysis(mydata_combined, measures_for_icc)\n",
    "\n",
    "# save results \n",
    "icc_results.to_csv(path_to_save_combined, index=False)\n",
    "\n",
    "# calculate Cronbachs alpha\n",
    "pg.cronbach_alpha(data=mydata_combined)"
   ]
  },
  {
   "cell_type": "markdown",
   "id": "561660ff-79ed-4c84-a363-6c14eae0d233",
   "metadata": {},
   "source": [
    "## Analysis invariant cores"
   ]
  },
  {
   "cell_type": "code",
   "execution_count": 107,
   "id": "f32b8462-96cb-4444-a2e6-b839e7d5fae2",
   "metadata": {},
   "outputs": [],
   "source": [
    "# invariant cores that ensure at least metric invariance between validation data and GenPop/Enriched data\n",
    "# I don't need to load data anymore. Data is loaded in the previous steps (not inv cores).\n",
    "# I am now editing the data so that it only includes inv cores "
   ]
  },
  {
   "cell_type": "code",
   "execution_count": 106,
   "id": "5a65f25f-5650-47ee-bb5c-4030a111359f",
   "metadata": {},
   "outputs": [],
   "source": [
    "# anh depression - combined, GenPop and Enriched\n",
    "mydata_combined['hitop_anhedonic_depression_invcore'] = mydata_combined['hitop39'] + mydata_combined['hitop77'] + mydata_combined['hitop84'] + mydata_combined['hitop93'] + mydata_combined['hitop182'] + mydata_combined['hitop230'] + mydata_combined['hitop246']\n",
    "mydata_genpop['hitop_anhedonic_depression_invcore'] = mydata_genpop['hitop39'] + mydata_genpop['hitop77'] + mydata_genpop['hitop84'] + mydata_genpop['hitop93'] + mydata_genpop['hitop182'] + mydata_genpop['hitop230'] + mydata_genpop['hitop246']\n",
    "mydata_enriched['hitop_anhedonic_depression_invcore'] = mydata_enriched['hitop39'] + mydata_enriched['hitop77'] + mydata_enriched['hitop84'] + mydata_enriched['hitop93'] + mydata_enriched['hitop182'] + mydata_enriched['hitop230'] + mydata_enriched['hitop246']\n",
    "\n",
    "# anx worry\n",
    "mydata_combined['hitop_anxious_worry_invcore'] = mydata_combined['hitop20'] + mydata_combined['hitop34'] + mydata_combined['hitop89'] + mydata_combined['hitop203'] + mydata_combined['hitop248'] \n",
    "mydata_genpop['hitop_anxious_worry_invcore'] = mydata_genpop['hitop20'] + mydata_genpop['hitop34'] + mydata_genpop['hitop89'] + mydata_genpop['hitop203'] + mydata_genpop['hitop248'] \n",
    "mydata_enriched['hitop_anxious_worry_invcore'] = mydata_enriched['hitop20'] + mydata_enriched['hitop34'] + mydata_enriched['hitop89'] + mydata_enriched['hitop203'] + mydata_enriched['hitop248'] \n",
    "\n",
    "# appetite gain\n",
    "mydata_combined['hitop_appetite gain_invcore'] = mydata_combined['hitop120'] + mydata_combined['hitop243'] + mydata_combined['hitop275'] \n",
    "mydata_genpop['hitop_appetite gain_invcore'] = mydata_genpop['hitop120'] + mydata_genpop['hitop243'] + mydata_genpop['hitop275']\n",
    "mydata_enriched['hitop_appetite gain_invcore'] = mydata_enriched['hitop120'] + mydata_enriched['hitop243'] + mydata_enriched['hitop275']\n",
    "\n",
    "# separation insecurity\n",
    "mydata_combined['hitop_separation insecurity_invcore'] = mydata_combined['hitop50'] + mydata_combined['hitop69'] + mydata_combined['hitop81'] + mydata_combined['hitop136'] + mydata_combined['hitop151'] + mydata_combined['hitop197'] \n",
    "mydata_genpop['hitop_separation insecurity_invcore'] = mydata_genpop['hitop50'] + mydata_genpop['hitop69'] + mydata_genpop['hitop81'] + mydata_genpop['hitop136'] + mydata_genpop['hitop151'] + mydata_genpop['hitop197']\n",
    "mydata_enriched['hitop_separation insecurity_invcore'] = mydata_enriched['hitop50'] + mydata_enriched['hitop69'] + mydata_enriched['hitop81'] + mydata_enriched['hitop136'] + mydata_enriched['hitop151'] + mydata_enriched['hitop197']\n",
    "\n",
    "# social anxiety\n",
    "mydata_combined['hitop_social_anxiety_invcore'] = mydata_combined['hitop17'] + mydata_combined['hitop117'] + mydata_combined['hitop124'] + mydata_combined['hitop129'] + mydata_combined['hitop204'] + mydata_combined['hitop258']\n",
    "mydata_genpop['hitop_social_anxiety_invcore'] = mydata_genpop['hitop17'] + mydata_genpop['hitop117'] + mydata_genpop['hitop124'] + mydata_genpop['hitop129'] + mydata_genpop['hitop204'] + mydata_genpop['hitop258']\n",
    "mydata_enriched['hitop_social_anxiety_invcore'] = mydata_enriched['hitop17'] + mydata_enriched['hitop117'] + mydata_enriched['hitop124'] + mydata_enriched['hitop129'] + mydata_enriched['hitop204'] + mydata_enriched['hitop258']\n",
    "\n",
    "# well-being\n",
    "mydata_combined['hitop_well_being_invcore'] = mydata_combined['hitop9'] + mydata_combined['hitop23'] + mydata_combined['hitop106'] + mydata_combined['hitop149'] + mydata_combined['hitop200'] + mydata_combined['hitop244'] + mydata_combined['hitop250'] + mydata_combined['hitop281']\n",
    "mydata_genpop['hitop_well_being_invcore'] = mydata_genpop['hitop9'] + mydata_genpop['hitop23'] + mydata_genpop['hitop106'] + mydata_genpop['hitop149'] + mydata_genpop['hitop200'] + mydata_genpop['hitop244'] + mydata_genpop['hitop250'] + mydata_genpop['hitop281']\n",
    "mydata_enriched['hitop_well_being_invcore'] = mydata_enriched['hitop9'] + mydata_enriched['hitop23'] + mydata_enriched['hitop106'] + mydata_enriched['hitop149'] + mydata_enriched['hitop200'] + mydata_enriched['hitop244'] + mydata_enriched['hitop250'] + mydata_enriched['hitop281']\n",
    "\n",
    "\n",
    "# BELOW IS JUST A PLACEHOLDER, I DIDNT DO INVARIANT CORE FOR RECONTACT\n",
    "# THIS IS JUST TO MAME THE LOOP LOOPING CORRECTLY\n",
    "\n",
    "mydata_combined['hitop_anhedonic_depression_invcore_recontact'] = mydata_combined['hitop39_recontact'] + mydata_combined['hitop77_recontact'] + mydata_combined['hitop84_recontact'] + mydata_combined['hitop93_recontact'] + mydata_combined['hitop182_recontact'] + mydata_combined['hitop230_recontact'] + mydata_combined['hitop246_recontact']\n",
    "mydata_genpop['hitop_anhedonic_depression_invcore_recontact'] = mydata_genpop['hitop39_recontact'] + mydata_genpop['hitop77_recontact'] + mydata_genpop['hitop84_recontact'] + mydata_genpop['hitop93_recontact'] + mydata_genpop['hitop182_recontact'] + mydata_genpop['hitop230_recontact'] + mydata_genpop['hitop246_recontact']\n",
    "mydata_enriched['hitop_anhedonic_depression_invcore_recontact'] = mydata_enriched['hitop39_recontact'] + mydata_enriched['hitop77_recontact'] + mydata_enriched['hitop84_recontact'] + mydata_enriched['hitop93_recontact'] + mydata_enriched['hitop182_recontact'] + mydata_enriched['hitop230_recontact'] + mydata_enriched['hitop246_recontact']\n",
    "\n",
    "mydata_combined['hitop_anxious_worry_invcore_recontact'] = mydata_combined['hitop20_recontact'] + mydata_combined['hitop34_recontact'] + mydata_combined['hitop89_recontact'] + mydata_combined['hitop203_recontact'] + mydata_combined['hitop248_recontact'] \n",
    "mydata_genpop['hitop_anxious_worry_invcore_recontact'] = mydata_genpop['hitop20_recontact'] + mydata_genpop['hitop34_recontact'] + mydata_genpop['hitop89_recontact'] + mydata_genpop['hitop203_recontact'] + mydata_genpop['hitop248_recontact'] \n",
    "mydata_enriched['hitop_anxious_worry_invcore_recontact'] = mydata_enriched['hitop20_recontact'] + mydata_enriched['hitop34_recontact'] + mydata_enriched['hitop89_recontact'] + mydata_enriched['hitop203_recontact'] + mydata_enriched['hitop248_recontact'] \n",
    "\n",
    "# appetite gain\n",
    "mydata_combined['hitop_appetite gain_invcore_recontact'] = mydata_combined['hitop120_recontact'] + mydata_combined['hitop243_recontact'] + mydata_combined['hitop275_recontact'] \n",
    "mydata_genpop['hitop_appetite gain_invcore_recontact'] = mydata_genpop['hitop120_recontact'] + mydata_genpop['hitop243_recontact'] + mydata_genpop['hitop275_recontact']\n",
    "mydata_enriched['hitop_appetite gain_invcore_recontact'] = mydata_enriched['hitop120_recontact'] + mydata_enriched['hitop243_recontact'] + mydata_enriched['hitop275_recontact']\n",
    "\n",
    "# separation insecurity\n",
    "mydata_combined['hitop_separation insecurity_invcore_recontact'] = mydata_combined['hitop50_recontact'] + mydata_combined['hitop69_recontact'] + mydata_combined['hitop81_recontact'] + mydata_combined['hitop136_recontact'] + mydata_combined['hitop151_recontact'] + mydata_combined['hitop197_recontact'] \n",
    "mydata_genpop['hitop_separation insecurity_invcore_recontact'] = mydata_genpop['hitop50_recontact'] + mydata_genpop['hitop69_recontact'] + mydata_genpop['hitop81_recontact'] + mydata_genpop['hitop136_recontact'] + mydata_genpop['hitop151_recontact'] + mydata_genpop['hitop197_recontact']\n",
    "mydata_enriched['hitop_separation insecurity_invcore_recontact'] = mydata_enriched['hitop50_recontact'] + mydata_enriched['hitop69_recontact'] + mydata_enriched['hitop81_recontact'] + mydata_enriched['hitop136_recontact'] + mydata_enriched['hitop151_recontact'] + mydata_enriched['hitop197_recontact']\n",
    "\n",
    "# social anxiety\n",
    "mydata_combined['hitop_social_anxiety_invcore_recontact'] = mydata_combined['hitop17_recontact'] + mydata_combined['hitop117_recontact'] + mydata_combined['hitop124_recontact'] + mydata_combined['hitop129_recontact'] + mydata_combined['hitop204_recontact'] + mydata_combined['hitop258_recontact']\n",
    "mydata_genpop['hitop_social_anxiety_invcore_recontact'] = mydata_genpop['hitop17_recontact'] + mydata_genpop['hitop117_recontact'] + mydata_genpop['hitop124_recontact'] + mydata_genpop['hitop129_recontact'] + mydata_genpop['hitop204_recontact'] + mydata_genpop['hitop258_recontact']\n",
    "mydata_enriched['hitop_social_anxiety_invcore_recontact'] = mydata_enriched['hitop17_recontact'] + mydata_enriched['hitop117_recontact'] + mydata_enriched['hitop124_recontact'] + mydata_enriched['hitop129_recontact'] + mydata_enriched['hitop204_recontact'] + mydata_enriched['hitop258_recontact']\n",
    "\n",
    "# well-being\n",
    "mydata_combined['hitop_well_being_invcore_recontact'] = mydata_combined['hitop9_recontact'] + mydata_combined['hitop23_recontact'] + mydata_combined['hitop106_recontact'] + mydata_combined['hitop149_recontact'] + mydata_combined['hitop200_recontact'] + mydata_combined['hitop244_recontact'] + mydata_combined['hitop250_recontact'] + mydata_combined['hitop281_recontact']\n",
    "mydata_genpop['hitop_well_being_invcore_recontact'] = mydata_genpop['hitop9_recontact'] + mydata_genpop['hitop23_recontact'] + mydata_genpop['hitop106_recontact'] + mydata_genpop['hitop149_recontact'] + mydata_genpop['hitop200_recontact'] + mydata_genpop['hitop244_recontact'] + mydata_genpop['hitop250_recontact'] + mydata_genpop['hitop281_recontact']\n",
    "mydata_enriched['hitop_well_being_invcore_recontact'] = mydata_enriched['hitop9_recontact'] + mydata_enriched['hitop23_recontact'] + mydata_enriched['hitop106_recontact'] + mydata_enriched['hitop149_recontact'] + mydata_enriched['hitop200_recontact'] + mydata_enriched['hitop244_recontact'] + mydata_enriched['hitop250_recontact'] + mydata_enriched['hitop281_recontact']\n"
   ]
  },
  {
   "cell_type": "markdown",
   "id": "e114c975-385d-4207-8678-622fae91b52e",
   "metadata": {},
   "source": [
    "### Analysis ENV CORES - GenPop"
   ]
  },
  {
   "cell_type": "code",
   "execution_count": 108,
   "id": "1953f00e-0cfa-448b-af83-9333daf6d84b",
   "metadata": {},
   "outputs": [
    {
     "data": {
      "text/plain": [
       "(np.float64(0.8003779990037636), array([0.772, 0.827]))"
      ]
     },
     "execution_count": 108,
     "metadata": {},
     "output_type": "execute_result"
    }
   ],
   "source": [
    "# specify path where to save the results table\n",
    "path_to_save_genpop_inv = '../../results/ICC_final/ICC_invcores_genpop_removedGRIDchecks.csv'\n",
    "\n",
    "# run icc\n",
    "icc_results = run_icc_analysis(mydata_genpop, measures_for_icc)\n",
    "\n",
    "# save results \n",
    "icc_results.to_csv(path_to_save_genpop_inv, index=False)\n",
    "\n",
    "# calculate Cronbachs alpha\n",
    "pg.cronbach_alpha(data=mydata_genpop)"
   ]
  },
  {
   "cell_type": "markdown",
   "id": "dfe3d833-31da-4f8a-bbf7-1c21df856e99",
   "metadata": {},
   "source": [
    "### Analysis ENV CORES - Enriched"
   ]
  },
  {
   "cell_type": "code",
   "execution_count": 109,
   "id": "3c87f304-97be-41d4-8bcc-5bfc0216b1d7",
   "metadata": {},
   "outputs": [
    {
     "data": {
      "text/plain": [
       "(np.float64(0.8445291688895238), array([0.816, 0.87 ]))"
      ]
     },
     "execution_count": 109,
     "metadata": {},
     "output_type": "execute_result"
    }
   ],
   "source": [
    "# specify path where to save the results table\n",
    "path_to_save_enriched_inv = '../../results/ICC_final/ICC_invcores_enriched_removedGRIDchecks.csv'\n",
    "\n",
    "# run icc\n",
    "icc_results = run_icc_analysis(mydata_enriched, measures_for_icc)\n",
    "\n",
    "# save results \n",
    "icc_results.to_csv(path_to_save_enriched_inv, index=False)\n",
    "\n",
    "# calculate Cronbachs alpha\n",
    "pg.cronbach_alpha(data=mydata_enriched)"
   ]
  },
  {
   "cell_type": "markdown",
   "id": "1c1323c2-7e82-4a7c-8e70-289f2665d118",
   "metadata": {},
   "source": [
    "### Analysis ENV CORES - Combined"
   ]
  },
  {
   "cell_type": "code",
   "execution_count": 110,
   "id": "55f6774b-650b-45b8-becb-3bc962d6bbfa",
   "metadata": {},
   "outputs": [
    {
     "data": {
      "text/plain": [
       "(np.float64(0.8297883924548175), array([0.811, 0.848]))"
      ]
     },
     "execution_count": 110,
     "metadata": {},
     "output_type": "execute_result"
    }
   ],
   "source": [
    "# specify path where to save the results table\n",
    "path_to_save_combined_inv = '../../results/ICC_final/ICC_invcores_genpopANDenriched_removedGRIDchecks.csv'\n",
    "\n",
    "# run icc\n",
    "icc_results = run_icc_analysis(mydata_combined, measures_for_icc)\n",
    "\n",
    "# save results \n",
    "icc_results.to_csv(path_to_save_combined_inv, index=False)\n",
    "\n",
    "# calculate Cronbachs alpha\n",
    "pg.cronbach_alpha(data=mydata_combined)"
   ]
  },
  {
   "cell_type": "code",
   "execution_count": null,
   "id": "d867c601-0372-4aa1-98d1-23e7a02700b8",
   "metadata": {},
   "outputs": [],
   "source": []
  }
 ],
 "metadata": {
  "kernelspec": {
   "display_name": "Python 3 (ipykernel)",
   "language": "python",
   "name": "python3"
  },
  "language_info": {
   "codemirror_mode": {
    "name": "ipython",
    "version": 3
   },
   "file_extension": ".py",
   "mimetype": "text/x-python",
   "name": "python",
   "nbconvert_exporter": "python",
   "pygments_lexer": "ipython3",
   "version": "3.12.10"
  }
 },
 "nbformat": 4,
 "nbformat_minor": 5
}
